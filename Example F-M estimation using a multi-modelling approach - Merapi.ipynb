{
 "cells": [
  {
   "cell_type": "markdown",
   "id": "leading-prize",
   "metadata": {},
   "source": [
    "# Example F-M estimation using a multi-modelling approach: Merapi\n",
    "\n",
    "Determining the relationship between frequency and magnitude of volcanism is an important element of long-term volcanic hazard risk assessment. However, there is substantial uncertainty when estimating potential future eruption frequency and style, particularly in regions where eruption history data are relatively poorly constrained. To derive frequency-magnitude relationships in such environments, previous approaches have used analogues, typically defined as a function of the volcano morphology.\n",
    "\n",
    "Southeast Asia is a particularly active volcanic region, with over 170 volcanoes considered active in the Holocene. This high density of potentially active volcanoes coupled with relatively high population density means that Southeast Asia is one of the highest volcanic risk regions in the world (Loughlin et al. 2015). However, the volcanic record in the region is relatively limited (Simkin and Siebert 1994). Consequently, there is considerable uncertainty associated with the frequency-magnitude of volcanic eruptions at volcanoes in the region (Jenkins et al. 2012; Mead and Magill 2014; Whelley et al. 2015).\n",
    "\n",
    "Bayesian analysis has been utilised as a method for assessing frequency-magnitude relationships for volcanoes (e.g. Sheldrake 2014; Sheldrake and Carricchi 2017). However, such approaches are still sensitive to the choice of prior used in the Bayesian update. Ensemble modelling, where multiple different models are combined to produce a single forecast, has been put forward as a useful approach in such situations.\n",
    "\n",
    "In this notebook, we present an example case study to derive frequency-magnitude relationships for volcanoes in Southeast Asia. The proposed approach uses a Bayesian updating method and integrates different models for classifying analogues using model averaging.\n",
    "\n",
    "## pymc3\n",
    "Numerous probabilistic programming languages and systems have been developed in the last few decades. We use PyMC3 probabilistic programming package (Salvatier et al. 2016) for python to conduct Bayesian analysis. The benefit of using PyMC3 is that it is open-source and provides a simple and intuitive integration into the python programming language, offering flexibility for interacting with existing python code (Salvatier et al. 2016)."
   ]
  },
  {
   "cell_type": "markdown",
   "id": "transsexual-nylon",
   "metadata": {},
   "source": [
    "## Libraries and functions\n",
    "Below are the libraries and functions used"
   ]
  },
  {
   "cell_type": "code",
   "execution_count": 1,
   "id": "inclusive-irish",
   "metadata": {},
   "outputs": [],
   "source": [
    "#libraries\n",
    "import pymc3 as pm\n",
    "import matplotlib.pyplot as plt\n",
    "import matplotlib.ticker as mticker\n",
    "import numpy as np\n",
    "import pandas as pd\n",
    "import seaborn as sns\n",
    "from scipy import stats\n",
    "from scipy.stats import beta\n",
    "import arviz\n",
    "import csv\n",
    "import warnings\n",
    "warnings.filterwarnings('ignore')\n",
    "\n",
    "#Functions\n",
    "from Functions import assign_A1_classification\n",
    "from Functions import get_complete_record\n",
    "from Functions import calc_mean_annual_frequency_analogue\n",
    "from Functions import calc_std_annual_frequency_analogue\n",
    "from Functions import calc_relative_probability\n",
    "from Functions import get_VEI_eruptions_count\n",
    "from Functions import get_observed_eruption_rate\n",
    "from Functions import get_observed_relative_frequency\n",
    "from Functions import get_freq_mag_dirichlet\n",
    "from Functions import set_analogue_eruption_rate\n",
    "from Functions import get_FM_relationship\n",
    "from Functions import get_observed_eruption_rate_full_record\n",
    "from Functions import get_observed_relative_frequency_full_record\n",
    "from Functions import get_master_csv\n",
    "from Functions import save_plot\n",
    "#from Functions import get_model_trace\n",
    "from Functions import get_model_average"
   ]
  },
  {
   "cell_type": "markdown",
   "id": "celtic-spare",
   "metadata": {},
   "source": [
    "## Defining the volcano of interest\n",
    "Next, we set two variables called 'year' and 'volc_num'. The 'year' variable is the year of the GVP eruption database that is used in the analysis. In our case, we've used the GVP 4.8.5 that was downloaded in January 2020. Given that the last full year of data in the database was 2019, we use this as the 'year' variable. The volc_num is the GVP eruption number for the volcano of interest. In this example, we use the GVP number for Merapi. "
   ]
  },
  {
   "cell_type": "code",
   "execution_count": 2,
   "id": "bottom-communication",
   "metadata": {},
   "outputs": [],
   "source": [
    "year = 2019\n",
    "volc_num = 263250"
   ]
  },
  {
   "cell_type": "markdown",
   "id": "regional-feeling",
   "metadata": {},
   "source": [
    "## Assigning analogue classes\n",
    "Since Southeast Asia has numerous volcanoes with poor eruption records, but are considered to be potentially active, there is a need to find a transparent and robust methodologies to assess how likely these volcanoes are to eruption for volcanic hazard assessment. Analogue volcanoes are typically used to assess frequency-magnitude relationships for volcanoes with poor eruption records, under the assumption that volcanoes will behave similarly to selected analogues (e.g. Jenkins et al. 2012; Whelley et al. 2015; Sheldrake 2014). Often volcano morphology (e.g. large cone, caldera) is used to define different volcano analogue classifications. However, there is no standardised approach to selecting volcano analogues. For example, Jenkins et al. (2012) utilised the Primary Volcano Type classification from the GVP, whereas Whelley et al. (2015) used a desktop geomorphological investigation using remotely sensed imagery and consideration of the recent activity at the volcano (e.g. gas emissions and recent eruptive behaviour) to classify analogues. These two different approaches to analogue classification can result in different estimates for frequency-magnitude at volcanoes. \n",
    "\n",
    "In this work, we use two different analogue classifications systems:\n",
    " - [Jenkins et al. (2012)](https://doi.org/10.1007/s00445-012-0627-8) - We will refer to this system as the \"A1\" classification system\n",
    " - [Whelley et al. (2015)](https://doi.org/10.1007/s00445-014-0893-8) - We will refer to this system as the \"A2\" classification system\n",
    "\n",
    "\n",
    "### Analogue model 1: Jenkins approach to global analogue frequency-magnitude\n",
    "Jenkins et al. (2012) developed a methodology to estimate average recurrence intervals for eruptions greater than or equal to Volcanic Explosivity Index (VEI) 4. The methodology uses the eruption history of each volcano and, for data poor volcanoes, the globally averaged eruptive behaviour of analogous volcanoes.\n",
    "\n",
    "To infer averaged eruptive behaviour across analogous volcanoes, Jenkins et al. (2012) used the Smithsonian Institution classification of volcanoes from the Global Volcanism Program (GVP) volcano database and assigned each volcano to a broad type category (see below table taken from Jenkins et al. 2012 - Table 4). Jenkins et al. (2012) then used the GVP database to determine conditional magnitude probabilities for VEI 4, 5, 6 and 7 relative to eruptions VEI 3 and below, for each volcano category. The globally averaged eruption conditional probabilities were then applied to each volcano of the same category.\n",
    "\n",
    "| Volcano type category | Smithsonian Institution definition |\n",
    "| --- | --- |\n",
    "| Caldera | Caldera, Calderas, pyroclastic shield |\n",
    "| Large cone | Complex volcano, Complex volcanoes, Compound volcanoes, Somma volcano, Stratovolcano, Stratovolcanoes, Volcanic complex |\n",
    "| Shield | Shield volcano, Shield volcanoes |\n",
    "| Lava dome | Lava dome, Lava domes |\n",
    "| Small cone | Cinder cone, Cinder cones, Cones, Crater rows, Explosion craters, Fissure vent, Fissure vents, Lava cone, Maar, Maars, Pyroclastic cone, Pyroclastic cones, Scoria cones, Tuff cones, Tuff rings, Volcanic field |\n",
    "\n",
    "\n",
    "### Analogue model 2: Whelley approach to regional analogue frequency-magnitude\n",
    "Whelley et al. (2015) classified Southeast Asian volcanoes into five groups. Instead of using the GVP classification, they developed a classification framework that integrates morphology, and where known, the eruptive history and degassing style of volcanoes in Southeast Asia (see table below adapted from Figure 2 of Whelley et al. 2015). An important distinction to keep in mind is that the Jenkins approach uses globally averaged behaviour, whilst Whelley uses only volcanoes from Southeast Asia supplemented by the inclusion of some Japanese volcanoes because of the excellent volcano record from Japan.\n",
    "\n",
    "| Volcano type category | Definition used by Whelley et al. (2015) |\n",
    "| --- | --- |\n",
    "| Distributed cones and fields | Field of cinder and spatter cones |\n",
    "| Large caldera | Crater larger than 5 km |\n",
    "| Open-vent stratocone | stratovolcanoes that have more than two VEI 1 or 2 eruptions in past decade and average more than 8 emission events per year of 0.8 kt/day of SO2 since 1979 as tabulated by Aerocom and collected by TOMS, COSPEC, and ONEM and classified as open-vent stratocones. |\n",
    "| Semi-plugged stratocone | Stratocone with a summit crater less than or equal to 2.5 km and has not erupted in the past decade or has insufficient SO2 emissions |\n",
    "| Well-plugged stratocone | Stratocone with a summit crater greater than or equal to 2.5 km and has not erupted in the past decade or has insufficient SO2 emissions |\n",
    "\n",
    "### Analogue classification\n",
    "To assign the analogue classes, we first read in a csv file of the GVP Holocene Volcano list. We then apply the assign_A1_classification function. This function assigns an analogue class to every volcano in the GVP Holocene Volcano list based upon the criteria outlined in the Jenkins et al. 2012 paper. The volcano analogue type is contained within the \"Volcano type\" column. This assigns Merapi to be a \"Large cone\" volcano type.\n",
    "\n",
    "We then read in the A2 analogue system. This assigns analogue classes to all volcanoes in Southeast Asia and Japan. These are based upon the classes assigned in Whelley et al. 2015. We do not re-run the analysis used to derive the classes from Whelley as this requires a lot of manual interpretations. Instead, we use the classes assigned in their supplementary material. This assigns Merapi to be an \"Open-vent stratocone\" volcano type.  "
   ]
  },
  {
   "cell_type": "code",
   "execution_count": 3,
   "id": "unauthorized-passport",
   "metadata": {},
   "outputs": [
    {
     "data": {
      "text/html": [
       "<div>\n",
       "<style scoped>\n",
       "    .dataframe tbody tr th:only-of-type {\n",
       "        vertical-align: middle;\n",
       "    }\n",
       "\n",
       "    .dataframe tbody tr th {\n",
       "        vertical-align: top;\n",
       "    }\n",
       "\n",
       "    .dataframe thead th {\n",
       "        text-align: right;\n",
       "    }\n",
       "</style>\n",
       "<table border=\"1\" class=\"dataframe\">\n",
       "  <thead>\n",
       "    <tr style=\"text-align: right;\">\n",
       "      <th></th>\n",
       "      <th>Volcano Number</th>\n",
       "      <th>Volcano Name</th>\n",
       "      <th>Volcano type</th>\n",
       "    </tr>\n",
       "  </thead>\n",
       "  <tbody>\n",
       "    <tr>\n",
       "      <th>0</th>\n",
       "      <td>263160</td>\n",
       "      <td>Gunung Putri</td>\n",
       "      <td>Lava dome</td>\n",
       "    </tr>\n",
       "    <tr>\n",
       "      <th>1</th>\n",
       "      <td>275090</td>\n",
       "      <td>Lower Chindwin</td>\n",
       "      <td>Small cone</td>\n",
       "    </tr>\n",
       "    <tr>\n",
       "      <th>2</th>\n",
       "      <td>263150</td>\n",
       "      <td>Talagabodas</td>\n",
       "      <td>Large cone</td>\n",
       "    </tr>\n",
       "    <tr>\n",
       "      <th>3</th>\n",
       "      <td>263292</td>\n",
       "      <td>Malang Plain</td>\n",
       "      <td>Small cone</td>\n",
       "    </tr>\n",
       "    <tr>\n",
       "      <th>4</th>\n",
       "      <td>275010</td>\n",
       "      <td>Leizhou Bandao</td>\n",
       "      <td>Small cone</td>\n",
       "    </tr>\n",
       "    <tr>\n",
       "      <th>...</th>\n",
       "      <td>...</td>\n",
       "      <td>...</td>\n",
       "      <td>...</td>\n",
       "    </tr>\n",
       "    <tr>\n",
       "      <th>1426</th>\n",
       "      <td>390120</td>\n",
       "      <td>Leskov Island</td>\n",
       "      <td>Large cone</td>\n",
       "    </tr>\n",
       "    <tr>\n",
       "      <th>1427</th>\n",
       "      <td>390130</td>\n",
       "      <td>Zavodovski</td>\n",
       "      <td>Large cone</td>\n",
       "    </tr>\n",
       "    <tr>\n",
       "      <th>1428</th>\n",
       "      <td>390140</td>\n",
       "      <td>Protector Seamounts</td>\n",
       "      <td>NaN</td>\n",
       "    </tr>\n",
       "    <tr>\n",
       "      <th>1429</th>\n",
       "      <td>390829</td>\n",
       "      <td>James Ross Island</td>\n",
       "      <td>Shield</td>\n",
       "    </tr>\n",
       "    <tr>\n",
       "      <th>1430</th>\n",
       "      <td>390847</td>\n",
       "      <td>Melville</td>\n",
       "      <td>Large cone</td>\n",
       "    </tr>\n",
       "  </tbody>\n",
       "</table>\n",
       "<p>1431 rows × 3 columns</p>\n",
       "</div>"
      ],
      "text/plain": [
       "      Volcano Number         Volcano Name Volcano type\n",
       "0             263160         Gunung Putri    Lava dome\n",
       "1             275090       Lower Chindwin   Small cone\n",
       "2             263150          Talagabodas   Large cone\n",
       "3             263292         Malang Plain   Small cone\n",
       "4             275010       Leizhou Bandao   Small cone\n",
       "...              ...                  ...          ...\n",
       "1426          390120        Leskov Island   Large cone\n",
       "1427          390130           Zavodovski   Large cone\n",
       "1428          390140  Protector Seamounts          NaN\n",
       "1429          390829    James Ross Island       Shield\n",
       "1430          390847             Melville   Large cone\n",
       "\n",
       "[1431 rows x 3 columns]"
      ]
     },
     "execution_count": 3,
     "metadata": {},
     "output_type": "execute_result"
    }
   ],
   "source": [
    "GVP_volcanoes = pd.read_csv(\"volcano_list.csv\")\n",
    "\n",
    "# Assign analogues based on the A1 classification system\n",
    "A1_volcanoes = assign_A1_classification(GVP_volcanoes)\n",
    "Analogue_volcanoes_A1 = A1_volcanoes\n",
    "A1_volcanoes # View the dataframe\n",
    "\n"
   ]
  },
  {
   "cell_type": "code",
   "execution_count": 4,
   "id": "prime-halloween",
   "metadata": {},
   "outputs": [
    {
     "data": {
      "text/html": [
       "<div>\n",
       "<style scoped>\n",
       "    .dataframe tbody tr th:only-of-type {\n",
       "        vertical-align: middle;\n",
       "    }\n",
       "\n",
       "    .dataframe tbody tr th {\n",
       "        vertical-align: top;\n",
       "    }\n",
       "\n",
       "    .dataframe thead th {\n",
       "        text-align: right;\n",
       "    }\n",
       "</style>\n",
       "<table border=\"1\" class=\"dataframe\">\n",
       "  <thead>\n",
       "    <tr style=\"text-align: right;\">\n",
       "      <th></th>\n",
       "      <th>Volcano Number</th>\n",
       "      <th>Volcano Name</th>\n",
       "      <th>Volcano type</th>\n",
       "    </tr>\n",
       "  </thead>\n",
       "  <tbody>\n",
       "    <tr>\n",
       "      <th>395</th>\n",
       "      <td>263250</td>\n",
       "      <td>Merapi</td>\n",
       "      <td>Large cone</td>\n",
       "    </tr>\n",
       "  </tbody>\n",
       "</table>\n",
       "</div>"
      ],
      "text/plain": [
       "     Volcano Number Volcano Name Volcano type\n",
       "395          263250       Merapi   Large cone"
      ]
     },
     "execution_count": 4,
     "metadata": {},
     "output_type": "execute_result"
    }
   ],
   "source": [
    "# Merapi specifically\n",
    "A1_volcanoes.loc[A1_volcanoes['Volcano Number'] == 263250]\n"
   ]
  },
  {
   "cell_type": "code",
   "execution_count": 5,
   "id": "discrete-dressing",
   "metadata": {},
   "outputs": [
    {
     "data": {
      "text/html": [
       "<div>\n",
       "<style scoped>\n",
       "    .dataframe tbody tr th:only-of-type {\n",
       "        vertical-align: middle;\n",
       "    }\n",
       "\n",
       "    .dataframe tbody tr th {\n",
       "        vertical-align: top;\n",
       "    }\n",
       "\n",
       "    .dataframe thead th {\n",
       "        text-align: right;\n",
       "    }\n",
       "</style>\n",
       "<table border=\"1\" class=\"dataframe\">\n",
       "  <thead>\n",
       "    <tr style=\"text-align: right;\">\n",
       "      <th></th>\n",
       "      <th>Volcano Number</th>\n",
       "      <th>Volcano Name</th>\n",
       "      <th>Volcano type</th>\n",
       "    </tr>\n",
       "  </thead>\n",
       "  <tbody>\n",
       "    <tr>\n",
       "      <th>0</th>\n",
       "      <td>260001</td>\n",
       "      <td>NARCONDUM</td>\n",
       "      <td>Semi-plugged stratocone</td>\n",
       "    </tr>\n",
       "    <tr>\n",
       "      <th>1</th>\n",
       "      <td>260010</td>\n",
       "      <td>BARREN ISLAND</td>\n",
       "      <td>Open-vent stratocone</td>\n",
       "    </tr>\n",
       "    <tr>\n",
       "      <th>2</th>\n",
       "      <td>261020</td>\n",
       "      <td>SEULAWAH AGAM</td>\n",
       "      <td>Semi-plugged stratocone</td>\n",
       "    </tr>\n",
       "    <tr>\n",
       "      <th>3</th>\n",
       "      <td>261030</td>\n",
       "      <td>PEUETSAGU</td>\n",
       "      <td>Semi-plugged stratocone</td>\n",
       "    </tr>\n",
       "    <tr>\n",
       "      <th>4</th>\n",
       "      <td>261050</td>\n",
       "      <td>BUR NI TELONG</td>\n",
       "      <td>Semi-plugged stratocone</td>\n",
       "    </tr>\n",
       "    <tr>\n",
       "      <th>...</th>\n",
       "      <td>...</td>\n",
       "      <td>...</td>\n",
       "      <td>...</td>\n",
       "    </tr>\n",
       "    <tr>\n",
       "      <th>252</th>\n",
       "      <td>284030</td>\n",
       "      <td>Kozushima</td>\n",
       "      <td>Semi-plugged stratocone</td>\n",
       "    </tr>\n",
       "    <tr>\n",
       "      <th>253</th>\n",
       "      <td>284040</td>\n",
       "      <td>Miyakejima</td>\n",
       "      <td>Semi-plugged stratocone</td>\n",
       "    </tr>\n",
       "    <tr>\n",
       "      <th>254</th>\n",
       "      <td>284041</td>\n",
       "      <td>Mikurajima</td>\n",
       "      <td>Semi-plugged stratocone</td>\n",
       "    </tr>\n",
       "    <tr>\n",
       "      <th>255</th>\n",
       "      <td>284050</td>\n",
       "      <td>Hachijojima</td>\n",
       "      <td>Semi-plugged stratocone</td>\n",
       "    </tr>\n",
       "    <tr>\n",
       "      <th>256</th>\n",
       "      <td>284060</td>\n",
       "      <td>Aogashima</td>\n",
       "      <td>Semi-plugged stratocone</td>\n",
       "    </tr>\n",
       "  </tbody>\n",
       "</table>\n",
       "<p>257 rows × 3 columns</p>\n",
       "</div>"
      ],
      "text/plain": [
       "     Volcano Number   Volcano Name             Volcano type\n",
       "0            260001      NARCONDUM  Semi-plugged stratocone\n",
       "1            260010  BARREN ISLAND     Open-vent stratocone\n",
       "2            261020  SEULAWAH AGAM  Semi-plugged stratocone\n",
       "3            261030      PEUETSAGU  Semi-plugged stratocone\n",
       "4            261050  BUR NI TELONG  Semi-plugged stratocone\n",
       "..              ...            ...                      ...\n",
       "252          284030      Kozushima  Semi-plugged stratocone\n",
       "253          284040     Miyakejima  Semi-plugged stratocone\n",
       "254          284041     Mikurajima  Semi-plugged stratocone\n",
       "255          284050    Hachijojima  Semi-plugged stratocone\n",
       "256          284060      Aogashima  Semi-plugged stratocone\n",
       "\n",
       "[257 rows x 3 columns]"
      ]
     },
     "execution_count": 5,
     "metadata": {},
     "output_type": "execute_result"
    }
   ],
   "source": [
    "# Assign analogues based on the A2 classification system\n",
    "\n",
    "A2_volcanoes = pd.read_csv(\"Whelley_SEA.csv\")\n",
    "A2_volcanoes = A2_volcanoes[['Volcano Number', 'Volcano Name', 'Volcano type']]\n",
    "A2_volcanoes"
   ]
  },
  {
   "cell_type": "code",
   "execution_count": 6,
   "id": "attached-madagascar",
   "metadata": {},
   "outputs": [
    {
     "data": {
      "text/html": [
       "<div>\n",
       "<style scoped>\n",
       "    .dataframe tbody tr th:only-of-type {\n",
       "        vertical-align: middle;\n",
       "    }\n",
       "\n",
       "    .dataframe tbody tr th {\n",
       "        vertical-align: top;\n",
       "    }\n",
       "\n",
       "    .dataframe thead th {\n",
       "        text-align: right;\n",
       "    }\n",
       "</style>\n",
       "<table border=\"1\" class=\"dataframe\">\n",
       "  <thead>\n",
       "    <tr style=\"text-align: right;\">\n",
       "      <th></th>\n",
       "      <th>Volcano Number</th>\n",
       "      <th>Volcano Name</th>\n",
       "      <th>Volcano type</th>\n",
       "    </tr>\n",
       "  </thead>\n",
       "  <tbody>\n",
       "    <tr>\n",
       "      <th>62</th>\n",
       "      <td>263250</td>\n",
       "      <td>MERAPI I</td>\n",
       "      <td>Open-vent stratocone</td>\n",
       "    </tr>\n",
       "  </tbody>\n",
       "</table>\n",
       "</div>"
      ],
      "text/plain": [
       "    Volcano Number Volcano Name          Volcano type\n",
       "62          263250     MERAPI I  Open-vent stratocone"
      ]
     },
     "execution_count": 6,
     "metadata": {},
     "output_type": "execute_result"
    }
   ],
   "source": [
    "# Merapi specifically\n",
    "Analogue_volcanoes_A2 = A2_volcanoes\n",
    "A2_volcanoes.loc[A2_volcanoes['Volcano Number'] == 263250]\n"
   ]
  },
  {
   "cell_type": "markdown",
   "id": "reduced-western",
   "metadata": {},
   "source": [
    "## Get complete volcano record\n",
    "This code uses the get_complete_record to filter the global eruption catalogue to only include eruptions that can be considered within their regions complete record. \n",
    "\n",
    "We determine the complete record by calling the get_complete_record function. This function takes the GVP eruption catalogue and filters it to only include eruptions that fall within the record considered complete. The record considered complete is all eruptions that fall after a regionally specific changepoint derived by [Mead and Magill (2014)](https://doi.org/10.1007/s00445-014-0874-y). In this case, we use the 50th percentile changepoint from Mead and Magill as the regional changepoint. \n",
    "\n",
    "In this instance, we also assign to variables called 'confirmed' and 'method'. The 'confirmed' variable defines whether we want our analysis to include only confirmed eruptions (True) or confirmed and uncertain eruptions (False). The 'method' variable defines the changepoint method being used, as we state above, this is the 50th percentile from [Mead and Magill (2014)](https://doi.org/10.1007/s00445-014-0874-y), thus we call this \"MeadMagill50\". The analysis could be repeated using different change points by changing method to \"MeadMagill5\" or \"MeadMagill95\" to use the 5th or 95th percentile value respectively. \n",
    "\n",
    "We can see below that there are 6387 individual eruptions that are included within the global complete record when using the 50th percentile changepoint for each region."
   ]
  },
  {
   "cell_type": "code",
   "execution_count": 7,
   "id": "invisible-arcade",
   "metadata": {},
   "outputs": [
    {
     "name": "stdout",
     "output_type": "stream",
     "text": [
      "Complete global record using 50th percentile change point:  6387\n"
     ]
    },
    {
     "data": {
      "text/html": [
       "<div>\n",
       "<style scoped>\n",
       "    .dataframe tbody tr th:only-of-type {\n",
       "        vertical-align: middle;\n",
       "    }\n",
       "\n",
       "    .dataframe tbody tr th {\n",
       "        vertical-align: top;\n",
       "    }\n",
       "\n",
       "    .dataframe thead th {\n",
       "        text-align: right;\n",
       "    }\n",
       "</style>\n",
       "<table border=\"1\" class=\"dataframe\">\n",
       "  <thead>\n",
       "    <tr style=\"text-align: right;\">\n",
       "      <th></th>\n",
       "      <th>Volcano Number</th>\n",
       "      <th>Volcano Name_x</th>\n",
       "      <th>Eruption Category</th>\n",
       "      <th>Primary Volcano Type</th>\n",
       "      <th>VEI</th>\n",
       "      <th>Start Year</th>\n",
       "      <th>Start Year Uncertainty</th>\n",
       "      <th>Region</th>\n",
       "      <th>Country</th>\n",
       "      <th>Subregion</th>\n",
       "      <th>Small 5</th>\n",
       "      <th>Small 50</th>\n",
       "      <th>Small 95</th>\n",
       "      <th>Large 5</th>\n",
       "      <th>Large 50</th>\n",
       "      <th>Large 95</th>\n",
       "    </tr>\n",
       "  </thead>\n",
       "  <tbody>\n",
       "    <tr>\n",
       "      <th>33</th>\n",
       "      <td>211020</td>\n",
       "      <td>Vesuvius</td>\n",
       "      <td>Confirmed Eruption</td>\n",
       "      <td>Stratovolcano</td>\n",
       "      <td>3.0</td>\n",
       "      <td>1913.0</td>\n",
       "      <td>NaN</td>\n",
       "      <td>Mediterranean and Western Asia</td>\n",
       "      <td>Italy</td>\n",
       "      <td>Italy</td>\n",
       "      <td>1631.0</td>\n",
       "      <td>1682.0</td>\n",
       "      <td>1682.0</td>\n",
       "      <td>-3128.0</td>\n",
       "      <td>-2638.0</td>\n",
       "      <td>-2500.0</td>\n",
       "    </tr>\n",
       "    <tr>\n",
       "      <th>35</th>\n",
       "      <td>211020</td>\n",
       "      <td>Vesuvius</td>\n",
       "      <td>Uncertain Eruption</td>\n",
       "      <td>Stratovolcano</td>\n",
       "      <td>1.0</td>\n",
       "      <td>1874.0</td>\n",
       "      <td>NaN</td>\n",
       "      <td>Mediterranean and Western Asia</td>\n",
       "      <td>Italy</td>\n",
       "      <td>Italy</td>\n",
       "      <td>1631.0</td>\n",
       "      <td>1682.0</td>\n",
       "      <td>1682.0</td>\n",
       "      <td>-3128.0</td>\n",
       "      <td>-2638.0</td>\n",
       "      <td>-2500.0</td>\n",
       "    </tr>\n",
       "    <tr>\n",
       "      <th>36</th>\n",
       "      <td>211020</td>\n",
       "      <td>Vesuvius</td>\n",
       "      <td>Confirmed Eruption</td>\n",
       "      <td>Stratovolcano</td>\n",
       "      <td>3.0</td>\n",
       "      <td>1870.0</td>\n",
       "      <td>NaN</td>\n",
       "      <td>Mediterranean and Western Asia</td>\n",
       "      <td>Italy</td>\n",
       "      <td>Italy</td>\n",
       "      <td>1631.0</td>\n",
       "      <td>1682.0</td>\n",
       "      <td>1682.0</td>\n",
       "      <td>-3128.0</td>\n",
       "      <td>-2638.0</td>\n",
       "      <td>-2500.0</td>\n",
       "    </tr>\n",
       "    <tr>\n",
       "      <th>37</th>\n",
       "      <td>211020</td>\n",
       "      <td>Vesuvius</td>\n",
       "      <td>Confirmed Eruption</td>\n",
       "      <td>Stratovolcano</td>\n",
       "      <td>2.0</td>\n",
       "      <td>1864.0</td>\n",
       "      <td>NaN</td>\n",
       "      <td>Mediterranean and Western Asia</td>\n",
       "      <td>Italy</td>\n",
       "      <td>Italy</td>\n",
       "      <td>1631.0</td>\n",
       "      <td>1682.0</td>\n",
       "      <td>1682.0</td>\n",
       "      <td>-3128.0</td>\n",
       "      <td>-2638.0</td>\n",
       "      <td>-2500.0</td>\n",
       "    </tr>\n",
       "    <tr>\n",
       "      <th>38</th>\n",
       "      <td>211020</td>\n",
       "      <td>Vesuvius</td>\n",
       "      <td>Confirmed Eruption</td>\n",
       "      <td>Stratovolcano</td>\n",
       "      <td>3.0</td>\n",
       "      <td>1855.0</td>\n",
       "      <td>NaN</td>\n",
       "      <td>Mediterranean and Western Asia</td>\n",
       "      <td>Italy</td>\n",
       "      <td>Italy</td>\n",
       "      <td>1631.0</td>\n",
       "      <td>1682.0</td>\n",
       "      <td>1682.0</td>\n",
       "      <td>-3128.0</td>\n",
       "      <td>-2638.0</td>\n",
       "      <td>-2500.0</td>\n",
       "    </tr>\n",
       "    <tr>\n",
       "      <th>...</th>\n",
       "      <td>...</td>\n",
       "      <td>...</td>\n",
       "      <td>...</td>\n",
       "      <td>...</td>\n",
       "      <td>...</td>\n",
       "      <td>...</td>\n",
       "      <td>...</td>\n",
       "      <td>...</td>\n",
       "      <td>...</td>\n",
       "      <td>...</td>\n",
       "      <td>...</td>\n",
       "      <td>...</td>\n",
       "      <td>...</td>\n",
       "      <td>...</td>\n",
       "      <td>...</td>\n",
       "      <td>...</td>\n",
       "    </tr>\n",
       "    <tr>\n",
       "      <th>10716</th>\n",
       "      <td>382100</td>\n",
       "      <td>Furnas</td>\n",
       "      <td>Confirmed Eruption</td>\n",
       "      <td>Stratovolcano</td>\n",
       "      <td>4.0</td>\n",
       "      <td>1170.0</td>\n",
       "      <td>100.0</td>\n",
       "      <td>Atlantic Ocean</td>\n",
       "      <td>Portugal</td>\n",
       "      <td>Azores</td>\n",
       "      <td>1986.0</td>\n",
       "      <td>1988.0</td>\n",
       "      <td>1990.0</td>\n",
       "      <td>-2403.0</td>\n",
       "      <td>-653.0</td>\n",
       "      <td>-446.0</td>\n",
       "    </tr>\n",
       "    <tr>\n",
       "      <th>10717</th>\n",
       "      <td>382100</td>\n",
       "      <td>Furnas</td>\n",
       "      <td>Confirmed Eruption</td>\n",
       "      <td>Stratovolcano</td>\n",
       "      <td>4.0</td>\n",
       "      <td>840.0</td>\n",
       "      <td>100.0</td>\n",
       "      <td>Atlantic Ocean</td>\n",
       "      <td>Portugal</td>\n",
       "      <td>Azores</td>\n",
       "      <td>1986.0</td>\n",
       "      <td>1988.0</td>\n",
       "      <td>1990.0</td>\n",
       "      <td>-2403.0</td>\n",
       "      <td>-653.0</td>\n",
       "      <td>-446.0</td>\n",
       "    </tr>\n",
       "    <tr>\n",
       "      <th>10718</th>\n",
       "      <td>382100</td>\n",
       "      <td>Furnas</td>\n",
       "      <td>Confirmed Eruption</td>\n",
       "      <td>Stratovolcano</td>\n",
       "      <td>5.0</td>\n",
       "      <td>80.0</td>\n",
       "      <td>100.0</td>\n",
       "      <td>Atlantic Ocean</td>\n",
       "      <td>Portugal</td>\n",
       "      <td>Azores</td>\n",
       "      <td>1986.0</td>\n",
       "      <td>1988.0</td>\n",
       "      <td>1990.0</td>\n",
       "      <td>-2403.0</td>\n",
       "      <td>-653.0</td>\n",
       "      <td>-446.0</td>\n",
       "    </tr>\n",
       "    <tr>\n",
       "      <th>10761</th>\n",
       "      <td>383030</td>\n",
       "      <td>Tenerife</td>\n",
       "      <td>Confirmed Eruption</td>\n",
       "      <td>Stratovolcano</td>\n",
       "      <td>4.0</td>\n",
       "      <td>-80.0</td>\n",
       "      <td>40.0</td>\n",
       "      <td>Atlantic Ocean</td>\n",
       "      <td>Spain</td>\n",
       "      <td>Canary Islands</td>\n",
       "      <td>1986.0</td>\n",
       "      <td>1988.0</td>\n",
       "      <td>1990.0</td>\n",
       "      <td>-2403.0</td>\n",
       "      <td>-653.0</td>\n",
       "      <td>-446.0</td>\n",
       "    </tr>\n",
       "    <tr>\n",
       "      <th>10859</th>\n",
       "      <td>390028</td>\n",
       "      <td>Hudson Mountains</td>\n",
       "      <td>Confirmed Eruption</td>\n",
       "      <td>Stratovolcano(es)</td>\n",
       "      <td>4.0</td>\n",
       "      <td>-210.0</td>\n",
       "      <td>200.0</td>\n",
       "      <td>Antarctica</td>\n",
       "      <td>Antarctica</td>\n",
       "      <td>Antarctica and South Sandwich Islands</td>\n",
       "      <td>1891.0</td>\n",
       "      <td>1893.0</td>\n",
       "      <td>1899.0</td>\n",
       "      <td>-1914.0</td>\n",
       "      <td>-329.0</td>\n",
       "      <td>-85.0</td>\n",
       "    </tr>\n",
       "  </tbody>\n",
       "</table>\n",
       "<p>6387 rows × 16 columns</p>\n",
       "</div>"
      ],
      "text/plain": [
       "       Volcano Number    Volcano Name_x   Eruption Category  \\\n",
       "33             211020          Vesuvius  Confirmed Eruption   \n",
       "35             211020          Vesuvius  Uncertain Eruption   \n",
       "36             211020          Vesuvius  Confirmed Eruption   \n",
       "37             211020          Vesuvius  Confirmed Eruption   \n",
       "38             211020          Vesuvius  Confirmed Eruption   \n",
       "...               ...               ...                 ...   \n",
       "10716          382100            Furnas  Confirmed Eruption   \n",
       "10717          382100            Furnas  Confirmed Eruption   \n",
       "10718          382100            Furnas  Confirmed Eruption   \n",
       "10761          383030          Tenerife  Confirmed Eruption   \n",
       "10859          390028  Hudson Mountains  Confirmed Eruption   \n",
       "\n",
       "      Primary Volcano Type  VEI  Start Year  Start Year Uncertainty  \\\n",
       "33           Stratovolcano  3.0      1913.0                     NaN   \n",
       "35           Stratovolcano  1.0      1874.0                     NaN   \n",
       "36           Stratovolcano  3.0      1870.0                     NaN   \n",
       "37           Stratovolcano  2.0      1864.0                     NaN   \n",
       "38           Stratovolcano  3.0      1855.0                     NaN   \n",
       "...                    ...  ...         ...                     ...   \n",
       "10716        Stratovolcano  4.0      1170.0                   100.0   \n",
       "10717        Stratovolcano  4.0       840.0                   100.0   \n",
       "10718        Stratovolcano  5.0        80.0                   100.0   \n",
       "10761        Stratovolcano  4.0       -80.0                    40.0   \n",
       "10859    Stratovolcano(es)  4.0      -210.0                   200.0   \n",
       "\n",
       "                               Region     Country  \\\n",
       "33     Mediterranean and Western Asia       Italy   \n",
       "35     Mediterranean and Western Asia       Italy   \n",
       "36     Mediterranean and Western Asia       Italy   \n",
       "37     Mediterranean and Western Asia       Italy   \n",
       "38     Mediterranean and Western Asia       Italy   \n",
       "...                               ...         ...   \n",
       "10716                  Atlantic Ocean    Portugal   \n",
       "10717                  Atlantic Ocean    Portugal   \n",
       "10718                  Atlantic Ocean    Portugal   \n",
       "10761                  Atlantic Ocean       Spain   \n",
       "10859                      Antarctica  Antarctica   \n",
       "\n",
       "                                   Subregion  Small 5  Small 50  Small 95  \\\n",
       "33                                     Italy   1631.0    1682.0    1682.0   \n",
       "35                                     Italy   1631.0    1682.0    1682.0   \n",
       "36                                     Italy   1631.0    1682.0    1682.0   \n",
       "37                                     Italy   1631.0    1682.0    1682.0   \n",
       "38                                     Italy   1631.0    1682.0    1682.0   \n",
       "...                                      ...      ...       ...       ...   \n",
       "10716                                 Azores   1986.0    1988.0    1990.0   \n",
       "10717                                 Azores   1986.0    1988.0    1990.0   \n",
       "10718                                 Azores   1986.0    1988.0    1990.0   \n",
       "10761                         Canary Islands   1986.0    1988.0    1990.0   \n",
       "10859  Antarctica and South Sandwich Islands   1891.0    1893.0    1899.0   \n",
       "\n",
       "       Large 5  Large 50  Large 95  \n",
       "33     -3128.0   -2638.0   -2500.0  \n",
       "35     -3128.0   -2638.0   -2500.0  \n",
       "36     -3128.0   -2638.0   -2500.0  \n",
       "37     -3128.0   -2638.0   -2500.0  \n",
       "38     -3128.0   -2638.0   -2500.0  \n",
       "...        ...       ...       ...  \n",
       "10716  -2403.0    -653.0    -446.0  \n",
       "10717  -2403.0    -653.0    -446.0  \n",
       "10718  -2403.0    -653.0    -446.0  \n",
       "10761  -2403.0    -653.0    -446.0  \n",
       "10859  -1914.0    -329.0     -85.0  \n",
       "\n",
       "[6387 rows x 16 columns]"
      ]
     },
     "execution_count": 7,
     "metadata": {},
     "output_type": "execute_result"
    }
   ],
   "source": [
    "confirmed = \"True\"\n",
    "method = \"MeadMagill50\"\n",
    "Full_record = pd.read_csv(\"GVPDB2019.csv\")\n",
    "GVP_df = Full_record\n",
    "change_points = pd.read_csv(\"Change_points_all.csv\")\n",
    "\n",
    "complete_record = get_complete_record (GVP_df, GVP_volcanoes, change_points, confirmed, method)\n",
    "complete_record"
   ]
  },
  {
   "cell_type": "markdown",
   "id": "delayed-marina",
   "metadata": {},
   "source": [
    "## Assign volcano details\n",
    "\n",
    "We then assign the volcano details. This is only necessary for adding the name of the volcano to the auto-generated plots that follow. But, it's also nice to take a quick look at the underlying information. "
   ]
  },
  {
   "cell_type": "code",
   "execution_count": 8,
   "id": "particular-telescope",
   "metadata": {},
   "outputs": [
    {
     "data": {
      "text/html": [
       "<div>\n",
       "<style scoped>\n",
       "    .dataframe tbody tr th:only-of-type {\n",
       "        vertical-align: middle;\n",
       "    }\n",
       "\n",
       "    .dataframe tbody tr th {\n",
       "        vertical-align: top;\n",
       "    }\n",
       "\n",
       "    .dataframe thead th {\n",
       "        text-align: right;\n",
       "    }\n",
       "</style>\n",
       "<table border=\"1\" class=\"dataframe\">\n",
       "  <thead>\n",
       "    <tr style=\"text-align: right;\">\n",
       "      <th></th>\n",
       "      <th>Volcano Number</th>\n",
       "      <th>Volcano Name</th>\n",
       "      <th>Country</th>\n",
       "      <th>Primary Volcano Type</th>\n",
       "      <th>Activity Evidence</th>\n",
       "      <th>Last Known Eruption</th>\n",
       "      <th>Region</th>\n",
       "      <th>Subregion</th>\n",
       "      <th>Latitude</th>\n",
       "      <th>Longitude</th>\n",
       "      <th>Elevation (m)</th>\n",
       "      <th>Dominant Rock Type</th>\n",
       "      <th>Tectonic Setting</th>\n",
       "      <th>Volcano type</th>\n",
       "    </tr>\n",
       "  </thead>\n",
       "  <tbody>\n",
       "    <tr>\n",
       "      <th>395</th>\n",
       "      <td>263250</td>\n",
       "      <td>Merapi</td>\n",
       "      <td>Indonesia</td>\n",
       "      <td>Stratovolcano</td>\n",
       "      <td>Eruption Observed</td>\n",
       "      <td>2020 CE</td>\n",
       "      <td>Indonesia</td>\n",
       "      <td>Java</td>\n",
       "      <td>-7.54</td>\n",
       "      <td>110.446</td>\n",
       "      <td>2910</td>\n",
       "      <td>Andesite / Basaltic Andesite</td>\n",
       "      <td>Subduction zone / Continental crust (&gt;25 km)</td>\n",
       "      <td>Large cone</td>\n",
       "    </tr>\n",
       "  </tbody>\n",
       "</table>\n",
       "</div>"
      ],
      "text/plain": [
       "     Volcano Number Volcano Name    Country Primary Volcano Type  \\\n",
       "395          263250       Merapi  Indonesia        Stratovolcano   \n",
       "\n",
       "     Activity Evidence Last Known Eruption     Region Subregion  Latitude  \\\n",
       "395  Eruption Observed             2020 CE  Indonesia      Java     -7.54   \n",
       "\n",
       "     Longitude  Elevation (m)            Dominant Rock Type  \\\n",
       "395    110.446           2910  Andesite / Basaltic Andesite   \n",
       "\n",
       "                                 Tectonic Setting Volcano type  \n",
       "395  Subduction zone / Continental crust (>25 km)   Large cone  "
      ]
     },
     "execution_count": 8,
     "metadata": {},
     "output_type": "execute_result"
    }
   ],
   "source": [
    "Volcano_data = GVP_volcanoes[(GVP_volcanoes['Volcano Number'] == volc_num)]\n",
    "Volcano_name = Volcano_data.iloc[0]['Volcano Name']\n",
    "Volcano_data"
   ]
  },
  {
   "cell_type": "markdown",
   "id": "insured-adrian",
   "metadata": {},
   "source": [
    "## Calculating mean annual frequency for analogues and standard deviation\n",
    "\n",
    "Next we calculate the mean annual frequency for analogue classes by calling the calc_mean_annual_frequency_analogue function. This function works by first determining the average frequency of eruption for all volcanoes, then pools these frequencies based on the analogue classes and finds the mean eruption frequency for each analogue class. \n",
    "\n",
    "We use the Beta distribution to reflect our prior. \n",
    "\n",
    "The function takes four arguments:\n",
    "* Analogue volcanoes\n",
    "* complete_record\n",
    "* confirmed\n",
    "* method\n",
    "\n",
    "We've already defined each of these above. However, we need to make sure that for each analogue system we define the correct analogue set to use. So note, that \"Analogue_volcanoes\" is defined as A1_volcanoes to determine the annual frequency using the A1 classificaiton method, and defined as A2_volcanoes to determine the annual frequency using the A2 classification method\n",
    "\n",
    "This function will then return a dataframe that contains the mean average frequencies of eruptions for each of the analogue classes. "
   ]
  },
  {
   "cell_type": "code",
   "execution_count": 9,
   "id": "powered-iceland",
   "metadata": {},
   "outputs": [
    {
     "name": "stdout",
     "output_type": "stream",
     "text": [
      "calculating mean annual frequency\n",
      "saved frequency file\n",
      "Mean annual frequency using the A1 classification method:\n"
     ]
    },
    {
     "data": {
      "text/plain": [
       "Volcano type\n",
       "Caldera       0.039661\n",
       "Large cone    0.041165\n",
       "Lava dome     0.016870\n",
       "Shield        0.056828\n",
       "Small cone    0.011218\n",
       "Name: Eruption_rate, dtype: float64"
      ]
     },
     "execution_count": 9,
     "metadata": {},
     "output_type": "execute_result"
    }
   ],
   "source": [
    "# Mean annual frequency for analogues using the A1 classification system\n",
    "\n",
    "Analogue_volcanoes = A1_volcanoes\n",
    "\n",
    "analogue_annual_frequency_1 = calc_mean_annual_frequency_analogue(Analogue_volcanoes, complete_record, confirmed, method, year)\n",
    "\n",
    "print(\"Mean annual frequency using the A1 classification method:\")\n",
    "\n",
    "analogue_annual_frequency_1"
   ]
  },
  {
   "cell_type": "code",
   "execution_count": 10,
   "id": "settled-capital",
   "metadata": {},
   "outputs": [
    {
     "name": "stdout",
     "output_type": "stream",
     "text": [
      "Stardard deviation using the A1 classification method:\n"
     ]
    },
    {
     "data": {
      "text/plain": [
       "Volcano type\n",
       "Caldera       0.063615\n",
       "Large cone    0.062407\n",
       "Lava dome     0.030636\n",
       "Shield        0.109058\n",
       "Small cone    0.028362\n",
       "Name: Eruption_rate, dtype: float64"
      ]
     },
     "execution_count": 10,
     "metadata": {},
     "output_type": "execute_result"
    }
   ],
   "source": [
    "std_annual_frequency_analogue_1 = calc_std_annual_frequency_analogue(Analogue_volcanoes, complete_record, confirmed, method, year)\n",
    "print(\"Stardard deviation using the A1 classification method:\")\n",
    "std_annual_frequency_analogue_1"
   ]
  },
  {
   "cell_type": "code",
   "execution_count": 11,
   "id": "recreational-engineer",
   "metadata": {},
   "outputs": [
    {
     "name": "stdout",
     "output_type": "stream",
     "text": [
      "calculating mean annual frequency\n",
      "saved frequency file\n",
      "Mean annual frequency using the A2 classification method:\n"
     ]
    },
    {
     "data": {
      "text/plain": [
       "Volcano type\n",
       "Distributed cones and fields    0.005438\n",
       "Large caldera                   0.113358\n",
       "Open-vent stratocone            0.120973\n",
       "Semi-plugged stratocone         0.027052\n",
       "Well-plugged stratocone         0.037773\n",
       "Name: Eruption_rate, dtype: float64"
      ]
     },
     "execution_count": 11,
     "metadata": {},
     "output_type": "execute_result"
    }
   ],
   "source": [
    "# Mean annual frequency for analogues using the A1 classification system\n",
    "Analogue_volcanoes = A2_volcanoes\n",
    "\n",
    "analogue_annual_frequency_2 = calc_mean_annual_frequency_analogue(Analogue_volcanoes, complete_record, confirmed, method, year)\n",
    "\n",
    "print(\"Mean annual frequency using the A2 classification method:\")\n",
    "\n",
    "analogue_annual_frequency_2"
   ]
  },
  {
   "cell_type": "code",
   "execution_count": 12,
   "id": "civil-scanner",
   "metadata": {},
   "outputs": [
    {
     "name": "stdout",
     "output_type": "stream",
     "text": [
      "Stardard deviation using the A2 classification method:\n"
     ]
    },
    {
     "data": {
      "text/plain": [
       "Volcano type\n",
       "Distributed cones and fields    0.003740\n",
       "Large caldera                   0.086947\n",
       "Open-vent stratocone            0.075862\n",
       "Semi-plugged stratocone         0.032102\n",
       "Well-plugged stratocone         0.085474\n",
       "Name: Eruption_rate, dtype: float64"
      ]
     },
     "execution_count": 12,
     "metadata": {},
     "output_type": "execute_result"
    }
   ],
   "source": [
    "std_annual_frequency_analogue_2 = calc_std_annual_frequency_analogue(Analogue_volcanoes, complete_record, confirmed, method, year)\n",
    "\n",
    "print(\"Stardard deviation using the A2 classification method:\")\n",
    "\n",
    "std_annual_frequency_analogue_2"
   ]
  },
  {
   "cell_type": "markdown",
   "id": "senior-bridges",
   "metadata": {},
   "source": [
    "## Frequency of each VEI\n",
    "\n",
    "Next we determine the relative frequency of each VEI for each analogue class by calling the calc_relative_probability function. This pools all eruptions into their respective analogue classes and then finds the frequency of each VEI. We can see from this that we would not anticipate large VEI eruptions for lava dome volcanoes (i.e. VEI 6-7) and small cone (i.e. VEI 5-7), but all other analogue types have some frequency associated with each VEI considered in this study. This is because no volcano that is classified as Lava dome or Small cone has had one of the larger VEI eruptions. \n",
    "\n",
    "Again, we need to take care to define the correct \"Analogue_volcanoes\" variable for each analogue classification system.\n",
    "\n",
    "We also have an additional variable to asign called \"VEI_schema\". This is just to define how the VEI classes are broken down:\n",
    "\n",
    "### VEI_schema = 1 \n",
    "- VEI <= 3\n",
    "- VEI 4\n",
    "- VEI 5\n",
    "- VEI 6\n",
    "- VEI 7\n",
    "\n",
    "### VEI_schema = 2 \n",
    "- VEI <=2\n",
    "- VEI 4\n",
    "- VEI 5\n",
    "- VEI 6\n",
    "- VEI 7\n",
    "\n",
    "### VEI_schema = 3\n",
    "\n",
    "- VEI 1\n",
    "- VEI 2\n",
    "- VEI 3\n",
    "- VEI 4\n",
    "- VEI 5\n",
    "- VEI 6\n",
    "- VEI 7\n",
    "\n",
    "We will use VEI_schema = 1. The reason for this is that some eruptions that were known to be explosive, but have an unknown VEI where assigned VEI 2 by default within the GVP. However, it is possible that some of these VEI 2 eruptions are actually VEI 3 eruptions. Thus, by pooling them altogether we can help reduce the potential issues with this assumption. "
   ]
  },
  {
   "cell_type": "code",
   "execution_count": 13,
   "id": "blind-motivation",
   "metadata": {},
   "outputs": [
    {
     "name": "stdout",
     "output_type": "stream",
     "text": [
      "classified eruptions saved\n",
      "Analogue frequencies of each VEI using A1 classification system:\n"
     ]
    },
    {
     "data": {
      "text/html": [
       "<div>\n",
       "<style scoped>\n",
       "    .dataframe tbody tr th:only-of-type {\n",
       "        vertical-align: middle;\n",
       "    }\n",
       "\n",
       "    .dataframe tbody tr th {\n",
       "        vertical-align: top;\n",
       "    }\n",
       "\n",
       "    .dataframe thead th {\n",
       "        text-align: right;\n",
       "    }\n",
       "</style>\n",
       "<table border=\"1\" class=\"dataframe\">\n",
       "  <thead>\n",
       "    <tr style=\"text-align: right;\">\n",
       "      <th></th>\n",
       "      <th>Caldera</th>\n",
       "      <th>Large cone</th>\n",
       "      <th>Lava dome</th>\n",
       "      <th>Shield</th>\n",
       "      <th>Small cone</th>\n",
       "      <th>VEI</th>\n",
       "    </tr>\n",
       "  </thead>\n",
       "  <tbody>\n",
       "    <tr>\n",
       "      <th>0</th>\n",
       "      <td>0.663300</td>\n",
       "      <td>0.688798</td>\n",
       "      <td>0.404908</td>\n",
       "      <td>0.771084</td>\n",
       "      <td>0.574176</td>\n",
       "      <td>&lt;=3</td>\n",
       "    </tr>\n",
       "    <tr>\n",
       "      <th>1</th>\n",
       "      <td>0.061448</td>\n",
       "      <td>0.046819</td>\n",
       "      <td>0.079755</td>\n",
       "      <td>0.023170</td>\n",
       "      <td>0.054945</td>\n",
       "      <td>4</td>\n",
       "    </tr>\n",
       "    <tr>\n",
       "      <th>2</th>\n",
       "      <td>0.026094</td>\n",
       "      <td>0.017061</td>\n",
       "      <td>0.061350</td>\n",
       "      <td>0.002780</td>\n",
       "      <td>0.000000</td>\n",
       "      <td>5</td>\n",
       "    </tr>\n",
       "    <tr>\n",
       "      <th>3</th>\n",
       "      <td>0.019360</td>\n",
       "      <td>0.003439</td>\n",
       "      <td>0.000000</td>\n",
       "      <td>0.001854</td>\n",
       "      <td>0.000000</td>\n",
       "      <td>6</td>\n",
       "    </tr>\n",
       "    <tr>\n",
       "      <th>4</th>\n",
       "      <td>0.003367</td>\n",
       "      <td>0.000397</td>\n",
       "      <td>0.000000</td>\n",
       "      <td>0.000927</td>\n",
       "      <td>0.000000</td>\n",
       "      <td>7</td>\n",
       "    </tr>\n",
       "  </tbody>\n",
       "</table>\n",
       "</div>"
      ],
      "text/plain": [
       "    Caldera  Large cone  Lava dome    Shield  Small cone  VEI\n",
       "0  0.663300    0.688798   0.404908  0.771084    0.574176  <=3\n",
       "1  0.061448    0.046819   0.079755  0.023170    0.054945    4\n",
       "2  0.026094    0.017061   0.061350  0.002780    0.000000    5\n",
       "3  0.019360    0.003439   0.000000  0.001854    0.000000    6\n",
       "4  0.003367    0.000397   0.000000  0.000927    0.000000    7"
      ]
     },
     "execution_count": 13,
     "metadata": {},
     "output_type": "execute_result"
    }
   ],
   "source": [
    "VEI_schema = 1\n",
    "\n",
    "# Using the A1 classificaiton system\n",
    "Analogue_volcanoes = A1_volcanoes\n",
    "\n",
    "analogue_freq_mag_1 = calc_relative_probability(Analogue_volcanoes, Full_record, confirmed, VEI_schema)\n",
    "add_VEI_column = [\"<=3\", \"4\", \"5\", \"6\", \"7\"]\n",
    "analogue_freq_mag_1[\"VEI\"] = add_VEI_column\n",
    "print(\"Analogue frequencies of each VEI using A1 classification system:\")\n",
    "analogue_freq_mag_1"
   ]
  },
  {
   "cell_type": "code",
   "execution_count": 14,
   "id": "relative-square",
   "metadata": {},
   "outputs": [
    {
     "name": "stdout",
     "output_type": "stream",
     "text": [
      "classified eruptions saved\n",
      "Analogue frequencies of each VEI using A2 classification system:\n"
     ]
    },
    {
     "data": {
      "text/html": [
       "<div>\n",
       "<style scoped>\n",
       "    .dataframe tbody tr th:only-of-type {\n",
       "        vertical-align: middle;\n",
       "    }\n",
       "\n",
       "    .dataframe tbody tr th {\n",
       "        vertical-align: top;\n",
       "    }\n",
       "\n",
       "    .dataframe thead th {\n",
       "        text-align: right;\n",
       "    }\n",
       "</style>\n",
       "<table border=\"1\" class=\"dataframe\">\n",
       "  <thead>\n",
       "    <tr style=\"text-align: right;\">\n",
       "      <th></th>\n",
       "      <th>Distributed cones and fields</th>\n",
       "      <th>Large caldera</th>\n",
       "      <th>Open-vent stratocone</th>\n",
       "      <th>Semi-plugged stratocone</th>\n",
       "      <th>Well-plugged stratocone</th>\n",
       "      <th>VEI</th>\n",
       "    </tr>\n",
       "  </thead>\n",
       "  <tbody>\n",
       "    <tr>\n",
       "      <th>0</th>\n",
       "      <td>0.428571</td>\n",
       "      <td>0.827655</td>\n",
       "      <td>0.885188</td>\n",
       "      <td>0.699839</td>\n",
       "      <td>0.804348</td>\n",
       "      <td>&lt;=3</td>\n",
       "    </tr>\n",
       "    <tr>\n",
       "      <th>1</th>\n",
       "      <td>0.095238</td>\n",
       "      <td>0.046092</td>\n",
       "      <td>0.017528</td>\n",
       "      <td>0.044944</td>\n",
       "      <td>0.043478</td>\n",
       "      <td>4</td>\n",
       "    </tr>\n",
       "    <tr>\n",
       "      <th>2</th>\n",
       "      <td>0.000000</td>\n",
       "      <td>0.002004</td>\n",
       "      <td>0.006135</td>\n",
       "      <td>0.008828</td>\n",
       "      <td>0.032609</td>\n",
       "      <td>5</td>\n",
       "    </tr>\n",
       "    <tr>\n",
       "      <th>3</th>\n",
       "      <td>0.000000</td>\n",
       "      <td>0.004008</td>\n",
       "      <td>0.001753</td>\n",
       "      <td>0.000000</td>\n",
       "      <td>0.043478</td>\n",
       "      <td>6</td>\n",
       "    </tr>\n",
       "    <tr>\n",
       "      <th>4</th>\n",
       "      <td>0.000000</td>\n",
       "      <td>0.006012</td>\n",
       "      <td>0.000876</td>\n",
       "      <td>0.000000</td>\n",
       "      <td>0.000000</td>\n",
       "      <td>7</td>\n",
       "    </tr>\n",
       "  </tbody>\n",
       "</table>\n",
       "</div>"
      ],
      "text/plain": [
       "   Distributed cones and fields  Large caldera  Open-vent stratocone  \\\n",
       "0                      0.428571       0.827655              0.885188   \n",
       "1                      0.095238       0.046092              0.017528   \n",
       "2                      0.000000       0.002004              0.006135   \n",
       "3                      0.000000       0.004008              0.001753   \n",
       "4                      0.000000       0.006012              0.000876   \n",
       "\n",
       "   Semi-plugged stratocone  Well-plugged stratocone  VEI  \n",
       "0                 0.699839                 0.804348  <=3  \n",
       "1                 0.044944                 0.043478    4  \n",
       "2                 0.008828                 0.032609    5  \n",
       "3                 0.000000                 0.043478    6  \n",
       "4                 0.000000                 0.000000    7  "
      ]
     },
     "execution_count": 14,
     "metadata": {},
     "output_type": "execute_result"
    }
   ],
   "source": [
    "# Using the A2 classificaiton system\n",
    "Analogue_volcanoes = A2_volcanoes\n",
    "\n",
    "analogue_freq_mag_2 = calc_relative_probability(Analogue_volcanoes, Full_record, confirmed, VEI_schema)\n",
    "add_VEI_column = [\"<=3\", \"4\", \"5\", \"6\", \"7\"]\n",
    "analogue_freq_mag_2[\"VEI\"] = add_VEI_column\n",
    "print(\"Analogue frequencies of each VEI using A2 classification system:\")\n",
    "analogue_freq_mag_2"
   ]
  },
  {
   "cell_type": "markdown",
   "id": "approved-mixer",
   "metadata": {},
   "source": [
    "## Number of eruptions for Merapi in the eruption record\n",
    "\n",
    "Next, we count the number of eruptions our volcano of interest (i.e. Merapi) in the complete record that have an assigned VEI. This is important because the specific updating method we use later is determined by the number of confirmed VEI assigned eruptions in the complete record. We can see from this that Merapi has 38 eruptions with an assigned VEI that fall within the complete record."
   ]
  },
  {
   "cell_type": "code",
   "execution_count": 15,
   "id": "pointed-chemistry",
   "metadata": {},
   "outputs": [
    {
     "name": "stdout",
     "output_type": "stream",
     "text": [
      "Number of VEI eruptions:  58\n"
     ]
    }
   ],
   "source": [
    "VEI_count = get_VEI_eruptions_count(volc_num, complete_record)\n",
    "print(\"Number of VEI eruptions: \", VEI_count)"
   ]
  },
  {
   "cell_type": "markdown",
   "id": "twenty-joyce",
   "metadata": {},
   "source": [
    "## Recorded rate of eruptions and relative frequency of each VEI for Fujisan\n",
    "\n",
    "We are now interested in determining the \"observed\" (i.e. recorded) rate of eruptions and the observed frequency of different VEI eruptions for Merapi. We do this by calling the get_observed_eruption_rate and the get_observed_relative_frequency functions. \n",
    "\n",
    "This shows us that our \"observed\" rate based on Merapi's eruption record is approximately x eruptions per year. Whist, we have eruption records for 1 eruption each of VEI<=3, VEI4, and VEI5. We have no record of VEI6 or VEI7 eruptions for Fujisan in the complete eruption catalogue. "
   ]
  },
  {
   "cell_type": "code",
   "execution_count": 16,
   "id": "tight-spice",
   "metadata": {},
   "outputs": [
    {
     "name": "stdout",
     "output_type": "stream",
     "text": [
      "Observed rate of eruptions for Merapi is:  0.23711115029834398\n",
      "Observed frequency of VEI<=3:  56\n",
      "Observed frequency of VEI4:  2\n",
      "Observed frequency of VEI5:  0\n",
      "Observed frequency of VEI6:  0\n",
      "Observed frequency of VEI7:  0\n"
     ]
    }
   ],
   "source": [
    "Observed_rate = get_observed_eruption_rate(volc_num, complete_record, confirmed, year, Full_record, method)\n",
    "Observed_VEI = get_observed_relative_frequency(volc_num, complete_record, confirmed, Full_record, VEI_schema)\n",
    "\n",
    "print(\"Observed rate of eruptions for Merapi is: \", Observed_rate)\n",
    "print(\"Observed frequency of VEI<=3: \", Observed_VEI[0])\n",
    "print(\"Observed frequency of VEI4: \", Observed_VEI[1])\n",
    "print(\"Observed frequency of VEI5: \", Observed_VEI[2])\n",
    "print(\"Observed frequency of VEI6: \", Observed_VEI[3])\n",
    "print(\"Observed frequency of VEI7: \", Observed_VEI[4])"
   ]
  },
  {
   "cell_type": "markdown",
   "id": "inside-tourist",
   "metadata": {},
   "source": [
    "We can compare this to using the full record and not making any acountance for record completeness. This results in a significantly smaller annual frequency due to the increased length of the volcano record and the potential under recording of smaller eruptions. Using the full record would yield 17 additional VEI<=3 eruptions, 2 extra VEI4. But no extra VEI 5, VEI6 or VEI7 eruptions are recorded in the full eruption catalogue for Merapi. Thus, this shows the importance of considering the complete eruption record and the potential of under-recording. "
   ]
  },
  {
   "cell_type": "code",
   "execution_count": 17,
   "id": "prepared-qatar",
   "metadata": {},
   "outputs": [
    {
     "name": "stdout",
     "output_type": "stream",
     "text": [
      "Observed rate using full record:  0.00953792017779424\n",
      "Full record VEI<=3:  73\n",
      "Full record VEI4:  4\n",
      "Full record VEI5:  0\n",
      "Full record VEI6:  0\n",
      "Full record VEI7:  0\n"
     ]
    }
   ],
   "source": [
    "Observed_rate_full_record = get_observed_eruption_rate_full_record(volc_num, year, confirmed, Full_record)\n",
    "Observed_VEI_full_record = get_observed_relative_frequency_full_record(volc_num, Full_record, confirmed)\n",
    "print(\"Observed rate using full record: \", Observed_rate_full_record)\n",
    "print(\"Full record VEI<=3: \", Observed_VEI_full_record[0])\n",
    "print(\"Full record VEI4: \", Observed_VEI_full_record[1])\n",
    "print(\"Full record VEI5: \", Observed_VEI_full_record[2])\n",
    "print(\"Full record VEI6: \", Observed_VEI_full_record[3])\n",
    "print(\"Full record VEI7: \", Observed_VEI_full_record[4])"
   ]
  },
  {
   "cell_type": "markdown",
   "id": "immune-revolution",
   "metadata": {},
   "source": [
    "## Setting the prior model up\n",
    "\n",
    "Next we set the analogue mean and std eruption rate for our prior for Merapi. We can see that the mean and std are the same as for the Large Cone analogue class, and we know that Merapi is classified as a Large Cone for the A1 classification systion. Ditto using the A2 classification system. \n",
    "\n",
    "Here we also need to define a variable called \"Power_law\". This variable defines whether the model should assume a power law for VEI's that have no eruptions. In this example, we will not assume a power law and let the data speak for itself. \n",
    "\n",
    "Don't forget we need to redefine the \"Analogue_volcanoes\" variable so that it is using the appropriate classification system"
   ]
  },
  {
   "cell_type": "code",
   "execution_count": 18,
   "id": "universal-black",
   "metadata": {},
   "outputs": [
    {
     "name": "stdout",
     "output_type": "stream",
     "text": [
      "Dirichlet 1\n",
      "Mean eruptions per year for Merapi a priori:  0.04116516318761212\n",
      "std of mean eurptions per year for Merapi a priori:  0.06240744224492268\n",
      "Volcano type for Merapi is:  Large cone\n"
     ]
    }
   ],
   "source": [
    "Power_law = \"False\"\n",
    "\n",
    "# A1 classification system\n",
    "\n",
    "Analogue_volcanoes = A1_volcanoes\n",
    "\n",
    "average_eruptions_per_year_1, std_eruptions_per_year_1 = set_analogue_eruption_rate(volc_num, Analogue_volcanoes, Freq_rate=analogue_annual_frequency_1, Freq_rate_std=std_annual_frequency_analogue_1)\n",
    "Freq_rate_1 = analogue_annual_frequency_1\n",
    "Freq_rate_std_1 = std_annual_frequency_analogue_1\n",
    "Volcano_type_1 = Analogue_volcanoes.loc[Analogue_volcanoes['Volcano Number'] == volc_num, 'Volcano type'].iloc[0]\n",
    "\n",
    "freq_mag_dirichlet_1 = get_freq_mag_dirichlet(analogue_freq_mag=analogue_freq_mag_1, Analogue_volcanoes=Analogue_volcanoes, volc_num=volc_num, Power_law = Power_law, VEI_schema=VEI_schema)\n",
    "VEI_freq_1 = freq_mag_dirichlet_1\n",
    "# Freq_rate_1 = analogue_annual_frequency_1\n",
    "# Freq_rate_std_1 = std_annual_frequency_analogue_1\n",
    "\n",
    "print(\"Mean eruptions per year for Merapi a priori: \", average_eruptions_per_year_1)\n",
    "print(\"std of mean eurptions per year for Merapi a priori: \", std_eruptions_per_year_1)\n",
    "print(\"Volcano type for Merapi is: \", Volcano_type_1)"
   ]
  },
  {
   "cell_type": "code",
   "execution_count": 19,
   "id": "reliable-gender",
   "metadata": {},
   "outputs": [
    {
     "name": "stdout",
     "output_type": "stream",
     "text": [
      "Dirichlet 1\n",
      "Mean eruptions per year for Merapi a priori:  0.01687002574377183\n",
      "std of mean eurptions per year for Merapi a priori:  0.030636114628861\n",
      "Volcano type for Merapi is:  Open-vent stratocone\n"
     ]
    }
   ],
   "source": [
    "# A1 classification system\n",
    "\n",
    "Analogue_volcanoes = A2_volcanoes\n",
    "\n",
    "average_eruptions_per_year_2, std_eruptions_per_year_2 = set_analogue_eruption_rate(volc_num, Analogue_volcanoes, Freq_rate=analogue_annual_frequency_1, Freq_rate_std=std_annual_frequency_analogue_1)\n",
    "Freq_rate_2 = analogue_annual_frequency_2\n",
    "Freq_rate_std_2 = std_annual_frequency_analogue_2\n",
    "Volcano_type_2 = Analogue_volcanoes.loc[Analogue_volcanoes['Volcano Number'] == volc_num, 'Volcano type'].iloc[0]\n",
    "\n",
    "freq_mag_dirichlet_2 = get_freq_mag_dirichlet(analogue_freq_mag=analogue_freq_mag_2, Analogue_volcanoes=Analogue_volcanoes, volc_num=volc_num, Power_law=Power_law, VEI_schema = VEI_schema)\n",
    "VEI_freq_2 = freq_mag_dirichlet_2\n",
    "# Freq_rate_1 = analogue_annual_frequency_1\n",
    "# Freq_rate_std_1 = std_annual_frequency_analogue_1\n",
    "\n",
    "print(\"Mean eruptions per year for Merapi a priori: \", average_eruptions_per_year_2)\n",
    "print(\"std of mean eurptions per year for Merapi a priori: \", std_eruptions_per_year_2)\n",
    "print(\"Volcano type for Merapi is: \", Volcano_type_2)"
   ]
  },
  {
   "cell_type": "markdown",
   "id": "reduced-strength",
   "metadata": {},
   "source": [
    "## Running the Bayesian analysis to obtain F-M estimations\n",
    "\n",
    "Now, we've done all the housekeeping, we're ready to run the Bayesian analysis. We do this by calling the get_model_average function. This returns a dataframe of the resulting probabilities. This will take ~5-10 mins per volcano. Note the statement that says \"Initiating model using the: Bayesian update using complete record method\". There are two ways the model works. It first checks to see whether the volcano of interest has at least 1 confirmed eruption with a VEI assigned within the complete record. In this case, Fujisan does. So the prior is updated using Fujisan's eruption record for the complete portion of the record. If this criteria is not met, we update using the full record. This means that we include eruptions from outside the complete record. Although this means that we are probably missing eruptions, it seems preferable to not updating at all. Note: there are a few volcanoes that have GVP numbers and are included in the GVP Holocene Volcano list, but don't have any eruptions within the GVP Holocene Eruption catalogue. These volcanoes are excluded from the analysis. \n",
    "\n",
    "The first figure you see below is the trace plot from determining the posterior distribution for probability of an eruption (of any VEI) for Merapi. We can see from the left plot, mean is somewhere around 0.237(ish), but anywhere between 0.225-0.25 looks credible. From the right plot, each draw from the trace is plotted. What we are looking for here is to check for convergence, which looks pretty good in this case. If there were problems with the model we might see a lot of divergences, which could be seen if the there were a number of draws that were plotting well outside of the main density of the plot (there are no divergences here). The other issue we would be looking out for is if the righthand plot was not centred on the same value (i.e if the distribution has a positive of negative slope to it). Again, not seen here. So we look ok. Yay.\n",
    "\n",
    "The next set of figures are the same, except using the A2 analogue classification method. Using the analogue classifications yields basically the same annual frequency. However, this won't be true for all volcanoes, expecially those with limited eruption histories where the prior model will have greater influence. \n",
    "\n",
    "The next figure is a series of plots for the relative probability of each VEI (different colours) for Merapi. "
   ]
  },
  {
   "cell_type": "code",
   "execution_count": 20,
   "id": "civilian-alcohol",
   "metadata": {},
   "outputs": [
    {
     "name": "stdout",
     "output_type": "stream",
     "text": [
      "Initiating model using:  Bayesian model average\n"
     ]
    },
    {
     "name": "stderr",
     "output_type": "stream",
     "text": [
      "Auto-assigning NUTS sampler...\n",
      "Initializing NUTS using jitter+adapt_diag...\n",
      "Sequential sampling (2 chains in 1 job)\n",
      "NUTS: [theta]\n"
     ]
    },
    {
     "data": {
      "text/html": [
       "\n",
       "    <div>\n",
       "        <style>\n",
       "            /* Turns off some styling */\n",
       "            progress {\n",
       "                /* gets rid of default border in Firefox and Opera. */\n",
       "                border: none;\n",
       "                /* Needs to be in here for Safari polyfill so background images work as expected. */\n",
       "                background-size: auto;\n",
       "            }\n",
       "            .progress-bar-interrupted, .progress-bar-interrupted::-webkit-progress-bar {\n",
       "                background: #F44336;\n",
       "            }\n",
       "        </style>\n",
       "      <progress value='30000' class='' max='30000' style='width:300px; height:20px; vertical-align: middle;'></progress>\n",
       "      100.00% [30000/30000 00:40<00:00 Sampling chain 0, 0 divergences]\n",
       "    </div>\n",
       "    "
      ],
      "text/plain": [
       "<IPython.core.display.HTML object>"
      ]
     },
     "metadata": {},
     "output_type": "display_data"
    },
    {
     "data": {
      "text/html": [
       "\n",
       "    <div>\n",
       "        <style>\n",
       "            /* Turns off some styling */\n",
       "            progress {\n",
       "                /* gets rid of default border in Firefox and Opera. */\n",
       "                border: none;\n",
       "                /* Needs to be in here for Safari polyfill so background images work as expected. */\n",
       "                background-size: auto;\n",
       "            }\n",
       "            .progress-bar-interrupted, .progress-bar-interrupted::-webkit-progress-bar {\n",
       "                background: #F44336;\n",
       "            }\n",
       "        </style>\n",
       "      <progress value='30000' class='' max='30000' style='width:300px; height:20px; vertical-align: middle;'></progress>\n",
       "      100.00% [30000/30000 00:43<00:00 Sampling chain 1, 0 divergences]\n",
       "    </div>\n",
       "    "
      ],
      "text/plain": [
       "<IPython.core.display.HTML object>"
      ]
     },
     "metadata": {},
     "output_type": "display_data"
    },
    {
     "name": "stderr",
     "output_type": "stream",
     "text": [
      "Sampling 2 chains for 10_000 tune and 20_000 draw iterations (20_000 + 40_000 draws total) took 84 seconds.\n",
      "The number of effective samples is smaller than 25% for some parameters.\n"
     ]
    },
    {
     "data": {
      "image/png": "[encoded data removed]",
      "text/plain": [
       "<Figure size 864x144 with 2 Axes>"
      ]
     },
     "metadata": {
      "needs_background": "light"
     },
     "output_type": "display_data"
    },
    {
     "name": "stderr",
     "output_type": "stream",
     "text": [
      "Auto-assigning NUTS sampler...\n",
      "Initializing NUTS using jitter+adapt_diag...\n",
      "Sequential sampling (2 chains in 1 job)\n",
      "NUTS: [theta]\n"
     ]
    },
    {
     "data": {
      "text/html": [
       "\n",
       "    <div>\n",
       "        <style>\n",
       "            /* Turns off some styling */\n",
       "            progress {\n",
       "                /* gets rid of default border in Firefox and Opera. */\n",
       "                border: none;\n",
       "                /* Needs to be in here for Safari polyfill so background images work as expected. */\n",
       "                background-size: auto;\n",
       "            }\n",
       "            .progress-bar-interrupted, .progress-bar-interrupted::-webkit-progress-bar {\n",
       "                background: #F44336;\n",
       "            }\n",
       "        </style>\n",
       "      <progress value='30000' class='' max='30000' style='width:300px; height:20px; vertical-align: middle;'></progress>\n",
       "      100.00% [30000/30000 00:22<00:00 Sampling chain 0, 0 divergences]\n",
       "    </div>\n",
       "    "
      ],
      "text/plain": [
       "<IPython.core.display.HTML object>"
      ]
     },
     "metadata": {},
     "output_type": "display_data"
    },
    {
     "data": {
      "text/html": [
       "\n",
       "    <div>\n",
       "        <style>\n",
       "            /* Turns off some styling */\n",
       "            progress {\n",
       "                /* gets rid of default border in Firefox and Opera. */\n",
       "                border: none;\n",
       "                /* Needs to be in here for Safari polyfill so background images work as expected. */\n",
       "                background-size: auto;\n",
       "            }\n",
       "            .progress-bar-interrupted, .progress-bar-interrupted::-webkit-progress-bar {\n",
       "                background: #F44336;\n",
       "            }\n",
       "        </style>\n",
       "      <progress value='30000' class='' max='30000' style='width:300px; height:20px; vertical-align: middle;'></progress>\n",
       "      100.00% [30000/30000 00:30<00:00 Sampling chain 1, 0 divergences]\n",
       "    </div>\n",
       "    "
      ],
      "text/plain": [
       "<IPython.core.display.HTML object>"
      ]
     },
     "metadata": {},
     "output_type": "display_data"
    },
    {
     "name": "stderr",
     "output_type": "stream",
     "text": [
      "Sampling 2 chains for 10_000 tune and 20_000 draw iterations (20_000 + 40_000 draws total) took 53 seconds.\n",
      "The number of effective samples is smaller than 25% for some parameters.\n"
     ]
    },
    {
     "data": {
      "image/png": "[encoded data removed]",
      "text/plain": [
       "<Figure size 864x144 with 2 Axes>"
      ]
     },
     "metadata": {
      "needs_background": "light"
     },
     "output_type": "display_data"
    },
    {
     "name": "stdout",
     "output_type": "stream",
     "text": [
      "Using first concentration parameter for Model 1\n"
     ]
    },
    {
     "name": "stderr",
     "output_type": "stream",
     "text": [
      "Auto-assigning NUTS sampler...\n",
      "Initializing NUTS using jitter+adapt_diag...\n",
      "Sequential sampling (2 chains in 1 job)\n",
      "NUTS: [parameters]\n"
     ]
    },
    {
     "data": {
      "text/html": [
       "\n",
       "    <div>\n",
       "        <style>\n",
       "            /* Turns off some styling */\n",
       "            progress {\n",
       "                /* gets rid of default border in Firefox and Opera. */\n",
       "                border: none;\n",
       "                /* Needs to be in here for Safari polyfill so background images work as expected. */\n",
       "                background-size: auto;\n",
       "            }\n",
       "            .progress-bar-interrupted, .progress-bar-interrupted::-webkit-progress-bar {\n",
       "                background: #F44336;\n",
       "            }\n",
       "        </style>\n",
       "      <progress value='15000' class='' max='15000' style='width:300px; height:20px; vertical-align: middle;'></progress>\n",
       "      100.00% [15000/15000 01:06<00:00 Sampling chain 0, 0 divergences]\n",
       "    </div>\n",
       "    "
      ],
      "text/plain": [
       "<IPython.core.display.HTML object>"
      ]
     },
     "metadata": {},
     "output_type": "display_data"
    },
    {
     "data": {
      "text/html": [
       "\n",
       "    <div>\n",
       "        <style>\n",
       "            /* Turns off some styling */\n",
       "            progress {\n",
       "                /* gets rid of default border in Firefox and Opera. */\n",
       "                border: none;\n",
       "                /* Needs to be in here for Safari polyfill so background images work as expected. */\n",
       "                background-size: auto;\n",
       "            }\n",
       "            .progress-bar-interrupted, .progress-bar-interrupted::-webkit-progress-bar {\n",
       "                background: #F44336;\n",
       "            }\n",
       "        </style>\n",
       "      <progress value='15000' class='' max='15000' style='width:300px; height:20px; vertical-align: middle;'></progress>\n",
       "      100.00% [15000/15000 01:08<00:00 Sampling chain 1, 0 divergences]\n",
       "    </div>\n",
       "    "
      ],
      "text/plain": [
       "<IPython.core.display.HTML object>"
      ]
     },
     "metadata": {},
     "output_type": "display_data"
    },
    {
     "name": "stderr",
     "output_type": "stream",
     "text": [
      "Sampling 2 chains for 5_000 tune and 10_000 draw iterations (10_000 + 20_000 draws total) took 135 seconds.\n",
      "The number of effective samples is smaller than 25% for some parameters.\n"
     ]
    },
    {
     "name": "stdout",
     "output_type": "stream",
     "text": [
      "<MultiTrace: 2 chains, 10000 iterations, 2 variables>\n"
     ]
    },
    {
     "data": {
      "image/png": "[encoded data removed]",
      "text/plain": [
       "<Figure size 864x144 with 2 Axes>"
      ]
     },
     "metadata": {
      "needs_background": "light"
     },
     "output_type": "display_data"
    },
    {
     "name": "stdout",
     "output_type": "stream",
     "text": [
      "Using first concentration parameter for Model 2\n"
     ]
    },
    {
     "name": "stderr",
     "output_type": "stream",
     "text": [
      "Auto-assigning NUTS sampler...\n",
      "Initializing NUTS using jitter+adapt_diag...\n",
      "Sequential sampling (2 chains in 1 job)\n",
      "NUTS: [parameters]\n"
     ]
    },
    {
     "data": {
      "text/html": [
       "\n",
       "    <div>\n",
       "        <style>\n",
       "            /* Turns off some styling */\n",
       "            progress {\n",
       "                /* gets rid of default border in Firefox and Opera. */\n",
       "                border: none;\n",
       "                /* Needs to be in here for Safari polyfill so background images work as expected. */\n",
       "                background-size: auto;\n",
       "            }\n",
       "            .progress-bar-interrupted, .progress-bar-interrupted::-webkit-progress-bar {\n",
       "                background: #F44336;\n",
       "            }\n",
       "        </style>\n",
       "      <progress value='15000' class='' max='15000' style='width:300px; height:20px; vertical-align: middle;'></progress>\n",
       "      100.00% [15000/15000 00:46<00:00 Sampling chain 0, 0 divergences]\n",
       "    </div>\n",
       "    "
      ],
      "text/plain": [
       "<IPython.core.display.HTML object>"
      ]
     },
     "metadata": {},
     "output_type": "display_data"
    },
    {
     "data": {
      "text/html": [
       "\n",
       "    <div>\n",
       "        <style>\n",
       "            /* Turns off some styling */\n",
       "            progress {\n",
       "                /* gets rid of default border in Firefox and Opera. */\n",
       "                border: none;\n",
       "                /* Needs to be in here for Safari polyfill so background images work as expected. */\n",
       "                background-size: auto;\n",
       "            }\n",
       "            .progress-bar-interrupted, .progress-bar-interrupted::-webkit-progress-bar {\n",
       "                background: #F44336;\n",
       "            }\n",
       "        </style>\n",
       "      <progress value='15000' class='' max='15000' style='width:300px; height:20px; vertical-align: middle;'></progress>\n",
       "      100.00% [15000/15000 00:44<00:00 Sampling chain 1, 0 divergences]\n",
       "    </div>\n",
       "    "
      ],
      "text/plain": [
       "<IPython.core.display.HTML object>"
      ]
     },
     "metadata": {},
     "output_type": "display_data"
    },
    {
     "name": "stderr",
     "output_type": "stream",
     "text": [
      "Sampling 2 chains for 5_000 tune and 10_000 draw iterations (10_000 + 20_000 draws total) took 91 seconds.\n"
     ]
    },
    {
     "data": {
      "image/png": "[encoded data removed]",
      "text/plain": [
       "<Figure size 864x144 with 2 Axes>"
      ]
     },
     "metadata": {
      "needs_background": "light"
     },
     "output_type": "display_data"
    }
   ],
   "source": [
    "averaging_method = \"stacking\"\n",
    "project_folder = \"Merapi_test\"\n",
    "Uncertainty_schema = 1\n",
    "confirmed_VEI_eruptions = VEI_count\n",
    "show_trace = \"True\"\n",
    "\n",
    "Model_average_stacking = get_model_average(GVP_volcanoes,\n",
    "                                           volc_num,\n",
    "                                           Volcano_type_1,\n",
    "                                           Volcano_type_2,\n",
    "                                           Observed_rate,\n",
    "                                           Observed_VEI,\n",
    "                                           confirmed_VEI_eruptions,\n",
    "                                           Freq_rate_1,\n",
    "                                           Freq_rate_2,\n",
    "                                           Freq_rate_std_1,\n",
    "                                           Freq_rate_std_2,\n",
    "                                           VEI_freq_1,\n",
    "                                           VEI_freq_2,\n",
    "                                           Power_law,\n",
    "                                           averaging_method,\n",
    "                                           year,\n",
    "                                           confirmed,\n",
    "                                           method,\n",
    "                                           project_folder,\n",
    "                                           VEI_schema,\n",
    "                                           Uncertainty_schema,\n",
    "                                          show_trace)"
   ]
  },
  {
   "cell_type": "markdown",
   "id": "minute-vinyl",
   "metadata": {},
   "source": [
    "## Frequency-magnitude estimation\n",
    "The results from this process are then saved as a csv and a png file for quick viewing. The example for Merapi is shown below. "
   ]
  },
  {
   "cell_type": "code",
   "execution_count": 21,
   "id": "collected-excitement",
   "metadata": {},
   "outputs": [
    {
     "data": {
      "image/png": "[encoded data removed]",
      "text/plain": [
       "<IPython.core.display.Image object>"
      ]
     },
     "execution_count": 21,
     "metadata": {},
     "output_type": "execute_result"
    }
   ],
   "source": [
    "from IPython.display import Image\n",
    "Image(filename='Figures\\Merapi_test\\Merapi_Certain_2019_MeadMagill50__stacking_NoPowerLaw.png') \n",
    "\n",
    "\n"
   ]
  },
  {
   "cell_type": "code",
   "execution_count": 22,
   "id": "strategic-prevention",
   "metadata": {},
   "outputs": [
    {
     "data": {
      "text/html": [
       "<div>\n",
       "<style scoped>\n",
       "    .dataframe tbody tr th:only-of-type {\n",
       "        vertical-align: middle;\n",
       "    }\n",
       "\n",
       "    .dataframe tbody tr th {\n",
       "        vertical-align: top;\n",
       "    }\n",
       "\n",
       "    .dataframe thead th {\n",
       "        text-align: right;\n",
       "    }\n",
       "</style>\n",
       "<table border=\"1\" class=\"dataframe\">\n",
       "  <thead>\n",
       "    <tr style=\"text-align: right;\">\n",
       "      <th></th>\n",
       "      <th>Volcano Number</th>\n",
       "      <th>Volcano Name</th>\n",
       "      <th>GVP DB Year</th>\n",
       "      <th>Included eruptions</th>\n",
       "      <th>Estimate method</th>\n",
       "      <th>Change point</th>\n",
       "      <th>Average method</th>\n",
       "      <th>Power law</th>\n",
       "      <th>Probability of eruption 5th percentile</th>\n",
       "      <th>Probability of eruption 50th percentile</th>\n",
       "      <th>...</th>\n",
       "      <th>VEI 4 95th percentile</th>\n",
       "      <th>VEI 5 5th percentile</th>\n",
       "      <th>VEI 5 50th percentile</th>\n",
       "      <th>VEI 5 95th percentile</th>\n",
       "      <th>VEI 6 5th percentile</th>\n",
       "      <th>VEI 6 50th percentile</th>\n",
       "      <th>VEI 6 95th percentile</th>\n",
       "      <th>VEI 7 5th percentile</th>\n",
       "      <th>VEI 7 50th percentile</th>\n",
       "      <th>VEI 7 95th percentile</th>\n",
       "    </tr>\n",
       "  </thead>\n",
       "  <tbody>\n",
       "    <tr>\n",
       "      <th>0</th>\n",
       "      <td>263250</td>\n",
       "      <td>Merapi</td>\n",
       "      <td>2019</td>\n",
       "      <td>Confirmed</td>\n",
       "      <td>Bayesian model average</td>\n",
       "      <td>MeadMagill50</td>\n",
       "      <td>stacking</td>\n",
       "      <td>False</td>\n",
       "      <td>0.204397</td>\n",
       "      <td>0.23887</td>\n",
       "      <td>...</td>\n",
       "      <td>0.026644</td>\n",
       "      <td>0.000879</td>\n",
       "      <td>0.005757</td>\n",
       "      <td>0.012758</td>\n",
       "      <td>0.000209</td>\n",
       "      <td>0.001965</td>\n",
       "      <td>0.005112</td>\n",
       "      <td>0.000536</td>\n",
       "      <td>0.000536</td>\n",
       "      <td>0.001503</td>\n",
       "    </tr>\n",
       "  </tbody>\n",
       "</table>\n",
       "<p>1 rows × 26 columns</p>\n",
       "</div>"
      ],
      "text/plain": [
       "   Volcano Number Volcano Name  GVP DB Year Included eruptions  \\\n",
       "0          263250       Merapi         2019          Confirmed   \n",
       "\n",
       "          Estimate method  Change point Average method  Power law  \\\n",
       "0  Bayesian model average  MeadMagill50       stacking      False   \n",
       "\n",
       "   Probability of eruption 5th percentile  \\\n",
       "0                                0.204397   \n",
       "\n",
       "   Probability of eruption 50th percentile  ...  VEI 4 95th percentile  \\\n",
       "0                                  0.23887  ...               0.026644   \n",
       "\n",
       "   VEI 5 5th percentile  VEI 5 50th percentile  VEI 5 95th percentile  \\\n",
       "0              0.000879               0.005757               0.012758   \n",
       "\n",
       "   VEI 6 5th percentile  VEI 6 50th percentile  VEI 6 95th percentile  \\\n",
       "0              0.000209               0.001965               0.005112   \n",
       "\n",
       "   VEI 7 5th percentile  VEI 7 50th percentile  VEI 7 95th percentile  \n",
       "0              0.000536               0.000536               0.001503  \n",
       "\n",
       "[1 rows x 26 columns]"
      ]
     },
     "execution_count": 22,
     "metadata": {},
     "output_type": "execute_result"
    }
   ],
   "source": [
    "Example_Merapi_data = pd.read_csv(\"Probabilities\\Merapi_test\\Merapi_Certain_2019_MeadMagill50_stacking_NoPowerLaw.csv\")\n",
    "Example_Merapi_data"
   ]
  },
  {
   "cell_type": "code",
   "execution_count": null,
   "id": "wrapped-charger",
   "metadata": {},
   "outputs": [],
   "source": []
  }
 ],
 "metadata": {
  "kernelspec": {
   "display_name": "Python 3",
   "language": "python",
   "name": "python3"
  },
  "language_info": {
   "codemirror_mode": {
    "name": "ipython",
    "version": 3
   },
   "file_extension": ".py",
   "mimetype": "text/x-python",
   "name": "python",
   "nbconvert_exporter": "python",
   "pygments_lexer": "ipython3",
   "version": "3.9.2"
  }
 },
 "nbformat": 4,
 "nbformat_minor": 5
}
